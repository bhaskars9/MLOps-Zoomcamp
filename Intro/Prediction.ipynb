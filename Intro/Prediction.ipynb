{
 "cells": [
  {
   "cell_type": "code",
   "execution_count": 1,
   "id": "e1022224",
   "metadata": {},
   "outputs": [],
   "source": [
    "import pandas as pd\n",
    "import matplotlib.pyplot as plt\n",
    "import seaborn as sns\n",
    "\n",
    "from sklearn.feature_extraction import DictVectorizer\n",
    "from sklearn.linear_model import LinearRegression\n",
    "from sklearn.linear_model import Lasso # Linear Regression with regularization\n",
    "from sklearn.linear_model import Ridge # regularised linear regression\n",
    "from sklearn.metrics import mean_squared_error"
   ]
  },
  {
   "cell_type": "code",
   "execution_count": 2,
   "id": "9f4b378d",
   "metadata": {},
   "outputs": [],
   "source": [
    "# !pip install pyarrow"
   ]
  },
  {
   "cell_type": "code",
   "execution_count": 3,
   "id": "ab37922f",
   "metadata": {},
   "outputs": [],
   "source": [
    "# df = pd.read_parquet('../data/green_tripdata_2021-01.parquet')"
   ]
  },
  {
   "cell_type": "code",
   "execution_count": 4,
   "id": "c90e32d5",
   "metadata": {},
   "outputs": [],
   "source": [
    "# df"
   ]
  },
  {
   "cell_type": "code",
   "execution_count": 5,
   "id": "9bcee3c9",
   "metadata": {},
   "outputs": [],
   "source": [
    "# df.info()"
   ]
  },
  {
   "cell_type": "code",
   "execution_count": 6,
   "id": "ab4e82f3",
   "metadata": {},
   "outputs": [],
   "source": [
    "# plt.figure(figsize=(10,7))\n",
    "# sns.heatmap(df == df.isna(), cbar = False, yticklabels = False)\n",
    "# plt.title(\"Missing Values in the Dataset\")"
   ]
  },
  {
   "cell_type": "code",
   "execution_count": null,
   "id": "1607f015",
   "metadata": {},
   "outputs": [],
   "source": []
  },
  {
   "cell_type": "code",
   "execution_count": null,
   "id": "947d7cb6",
   "metadata": {},
   "outputs": [],
   "source": []
  },
  {
   "cell_type": "code",
   "execution_count": null,
   "id": "cb16637d",
   "metadata": {},
   "outputs": [],
   "source": []
  },
  {
   "cell_type": "code",
   "execution_count": 7,
   "id": "b69455ce",
   "metadata": {},
   "outputs": [],
   "source": [
    "def read_data(filename):\n",
    "    df = pd.read_parquet(filename)\n",
    "    \n",
    "    df['duration'] = df.lpep_dropoff_datetime - df.lpep_pickup_datetime\n",
    "    df.duration = df.duration.apply(lambda td: td.total_seconds() / 60)\n",
    "    \n",
    "    df = df[(df.duration >= 1) & (df.duration <= 60) ]\n",
    "    \n",
    "    categorical = ['PULocationID','DOLocationID']\n",
    "    df[categorical] = df[categorical].astype(str)\n",
    "    \n",
    "    return df"
   ]
  },
  {
   "cell_type": "code",
   "execution_count": 8,
   "id": "ba60d0f3",
   "metadata": {},
   "outputs": [],
   "source": [
    "df_train = read_data('../data/green_tripdata_2021-01.parquet')\n",
    "df_val = read_data('../data/green_tripdata_2021-02.parquet')"
   ]
  },
  {
   "cell_type": "code",
   "execution_count": 9,
   "id": "6c39e2ef",
   "metadata": {},
   "outputs": [
    {
     "data": {
      "text/plain": [
       "(73908, 61921)"
      ]
     },
     "execution_count": 9,
     "metadata": {},
     "output_type": "execute_result"
    }
   ],
   "source": [
    "len(df_train), len(df_val)"
   ]
  },
  {
   "cell_type": "code",
   "execution_count": 10,
   "id": "c7d824b7",
   "metadata": {},
   "outputs": [],
   "source": [
    "categorical = ['PULocationID','DOLocationID']\n",
    "numerical = ['trip_distance']\n",
    "\n",
    "dv = DictVectorizer()\n",
    "\n",
    "train_dicts = df_train[categorical + numerical].to_dict(orient='records')\n",
    "val_dicts = df_val[categorical + numerical].to_dict(orient='records')\n",
    "\n",
    "X_train = dv.fit_transform(train_dicts)\n",
    "X_val = dv.transform(val_dicts)\n",
    "\n",
    "target = 'duration'\n",
    "y_train = df_train[target].values\n",
    "y_val = df_val[target].values"
   ]
  },
  {
   "cell_type": "code",
   "execution_count": 22,
   "id": "631654e8",
   "metadata": {},
   "outputs": [
    {
     "data": {
      "application/javascript": [
       "\n",
       "        if (window._pyforest_update_imports_cell) { window._pyforest_update_imports_cell('from sklearn.linear_model import Ridge'); }\n",
       "    "
      ],
      "text/plain": [
       "<IPython.core.display.Javascript object>"
      ]
     },
     "metadata": {},
     "output_type": "display_data"
    }
   ],
   "source": [
    "def train_model(lr = Ridge()):\n",
    "    # For Rapid and clean experimentaion\n",
    "    lr.fit(X_train, y_train)\n",
    "\n",
    "    y_pred = lr.predict(X_train)\n",
    "    print('train mse',mean_squared_error(y_train, y_pred, squared=False))\n",
    "    \n",
    "    y_pred = lr.predict(X_val)\n",
    "    print('val mse',mean_squared_error(y_val, y_pred, squared=False))"
   ]
  },
  {
   "cell_type": "code",
   "execution_count": 21,
   "id": "4818a7e9",
   "metadata": {},
   "outputs": [
    {
     "name": "stdout",
     "output_type": "stream",
     "text": [
      "train mse 9.775464279699293\n",
      "val mse 10.473870318481026\n"
     ]
    }
   ],
   "source": [
    "train_model(LinearRegression())"
   ]
  },
  {
   "cell_type": "code",
   "execution_count": 24,
   "id": "d0aa5ac7",
   "metadata": {},
   "outputs": [
    {
     "name": "stdout",
     "output_type": "stream",
     "text": [
      "train mse 11.562050466293025\n",
      "val mse 12.212583224318818\n"
     ]
    }
   ],
   "source": [
    "train_model(Lasso())"
   ]
  },
  {
   "cell_type": "code",
   "execution_count": 25,
   "id": "af197572",
   "metadata": {},
   "outputs": [
    {
     "data": {
      "application/javascript": [
       "\n",
       "        if (window._pyforest_update_imports_cell) { window._pyforest_update_imports_cell('from sklearn.linear_model import Ridge'); }\n",
       "    "
      ],
      "text/plain": [
       "<IPython.core.display.Javascript object>"
      ]
     },
     "metadata": {},
     "output_type": "display_data"
    },
    {
     "name": "stdout",
     "output_type": "stream",
     "text": [
      "train mse 10.236288428970283\n",
      "val mse 10.860753390355725\n"
     ]
    }
   ],
   "source": [
    "train_model(Ridge())"
   ]
  },
  {
   "cell_type": "code",
   "execution_count": null,
   "id": "7e6cc4fe",
   "metadata": {},
   "outputs": [],
   "source": []
  },
  {
   "cell_type": "code",
   "execution_count": null,
   "id": "9dbaed0a",
   "metadata": {},
   "outputs": [],
   "source": []
  },
  {
   "cell_type": "code",
   "execution_count": null,
   "id": "730ba66d",
   "metadata": {},
   "outputs": [],
   "source": []
  },
  {
   "cell_type": "code",
   "execution_count": null,
   "id": "f7a168aa",
   "metadata": {},
   "outputs": [],
   "source": []
  },
  {
   "cell_type": "code",
   "execution_count": null,
   "id": "8c0b03b4",
   "metadata": {},
   "outputs": [],
   "source": []
  },
  {
   "cell_type": "code",
   "execution_count": null,
   "id": "8a53b9c2",
   "metadata": {},
   "outputs": [],
   "source": []
  },
  {
   "cell_type": "code",
   "execution_count": null,
   "id": "d0dc0409",
   "metadata": {},
   "outputs": [],
   "source": []
  },
  {
   "cell_type": "markdown",
   "id": "d6a8ac6b",
   "metadata": {},
   "source": [
    "**Creating duration from dropoff and pickup times**"
   ]
  },
  {
   "cell_type": "code",
   "execution_count": null,
   "id": "ec525b83",
   "metadata": {},
   "outputs": [],
   "source": [
    "df['duration'] = df.lpep_dropoff_datetime - df.lpep_pickup_datetime\n",
    "\n",
    "# Changing the duration from type 'timedelta64' format to minutes\n",
    "df.duration = df.duration.apply(lambda td: td.total_seconds() / 60)"
   ]
  },
  {
   "cell_type": "code",
   "execution_count": null,
   "id": "a4840a12",
   "metadata": {},
   "outputs": [],
   "source": [
    "df.duration.describe(percentiles=[0.25,0.46,0.97,0.98,0.99])"
   ]
  },
  {
   "cell_type": "markdown",
   "id": "2f95bb81",
   "metadata": {},
   "source": [
    "**Exploring rides that are under 1 minute**"
   ]
  },
  {
   "cell_type": "code",
   "execution_count": null,
   "id": "cbe4122d",
   "metadata": {},
   "outputs": [],
   "source": [
    "# short_df = df[df.duration<1]\n",
    "# short_df"
   ]
  },
  {
   "cell_type": "code",
   "execution_count": null,
   "id": "5c1b1dff",
   "metadata": {},
   "outputs": [],
   "source": [
    "# sns.displot(short_df.duration)"
   ]
  },
  {
   "cell_type": "code",
   "execution_count": null,
   "id": "adfeecb6",
   "metadata": {},
   "outputs": [],
   "source": [
    "# sns.scatterplot(x = short_df.duration, y = short_df.trip_distance)"
   ]
  },
  {
   "cell_type": "code",
   "execution_count": null,
   "id": "977dff02",
   "metadata": {},
   "outputs": [],
   "source": [
    "# sns.scatterplot(x = short_df.duration, y = short_df.fare_amount)"
   ]
  },
  {
   "cell_type": "code",
   "execution_count": null,
   "id": "6438d409",
   "metadata": {},
   "outputs": [],
   "source": [
    "# short_df.trip_type.value_counts()\n",
    "# All of them are from dispatch"
   ]
  },
  {
   "cell_type": "code",
   "execution_count": null,
   "id": "bad0d243",
   "metadata": {},
   "outputs": [],
   "source": [
    "# Filtering dataset by taking only rides from dispatch\n",
    "# df = df[df.trip_type == 2]\n",
    "# df"
   ]
  },
  {
   "cell_type": "code",
   "execution_count": null,
   "id": "e2594151",
   "metadata": {},
   "outputs": [],
   "source": [
    "# df.duration.describe(percentiles=[0.25,0.46,0.97,0.98,0.99])"
   ]
  },
  {
   "cell_type": "markdown",
   "id": "a5924e7c",
   "metadata": {},
   "source": [
    "**Filtering rides that are too long and too short in duration**"
   ]
  },
  {
   "cell_type": "code",
   "execution_count": null,
   "id": "85dbee2e",
   "metadata": {},
   "outputs": [],
   "source": [
    "# cleaning\n",
    "df = df[(df.duration >= 1) & (df.duration <= 60) ]\n",
    "df.info()"
   ]
  },
  {
   "cell_type": "code",
   "execution_count": null,
   "id": "64b439aa",
   "metadata": {},
   "outputs": [],
   "source": [
    "sns.displot(df.duration)"
   ]
  },
  {
   "cell_type": "code",
   "execution_count": null,
   "id": "7d3a0bb2",
   "metadata": {},
   "outputs": [],
   "source": [
    "sns.scatterplot(x = df.duration, y = df.fare_amount)\n",
    "# There's few rides with negative fares"
   ]
  },
  {
   "cell_type": "code",
   "execution_count": null,
   "id": "b16f334e",
   "metadata": {},
   "outputs": [],
   "source": [
    "sns.scatterplot(x = df.duration, y = df.trip_distance)"
   ]
  },
  {
   "cell_type": "markdown",
   "id": "1307d14c",
   "metadata": {},
   "source": [
    "**Selecting features to build a regression model to predict duration**"
   ]
  },
  {
   "cell_type": "code",
   "execution_count": null,
   "id": "7dc0b53c",
   "metadata": {},
   "outputs": [],
   "source": [
    "# Features\n",
    "categorical = ['PULocationID','DOLocationID']\n",
    "numerical = ['trip_distance']"
   ]
  },
  {
   "cell_type": "code",
   "execution_count": null,
   "id": "420f5b60",
   "metadata": {},
   "outputs": [],
   "source": [
    "df[categorical] = df[categorical].astype(str)"
   ]
  },
  {
   "cell_type": "code",
   "execution_count": null,
   "id": "98366c75",
   "metadata": {},
   "outputs": [],
   "source": [
    "# df[categorical + numerical].head().to_dict(orient='records')"
   ]
  },
  {
   "cell_type": "code",
   "execution_count": null,
   "id": "6ea4ea88",
   "metadata": {},
   "outputs": [],
   "source": [
    "train_dicts = df[categorical + numerical].to_dict(orient='records')"
   ]
  },
  {
   "cell_type": "code",
   "execution_count": null,
   "id": "c6abdfee",
   "metadata": {},
   "outputs": [],
   "source": [
    "# converting dict to vect\n",
    "dv = DictVectorizer()\n",
    "X_train = dv.fit_transform(train_dicts)"
   ]
  },
  {
   "cell_type": "code",
   "execution_count": null,
   "id": "13c1312a",
   "metadata": {},
   "outputs": [],
   "source": [
    "X_train"
   ]
  },
  {
   "cell_type": "code",
   "execution_count": null,
   "id": "b359ba10",
   "metadata": {},
   "outputs": [],
   "source": [
    "# For each location of Pick UP and DRop off we have a feature (i.e onehot encoded)\n",
    "# dv.feature_names_"
   ]
  },
  {
   "cell_type": "code",
   "execution_count": null,
   "id": "611c04e8",
   "metadata": {},
   "outputs": [],
   "source": [
    "target = 'duration'\n",
    "y_train = df[target].values"
   ]
  },
  {
   "cell_type": "code",
   "execution_count": null,
   "id": "e8a450f5",
   "metadata": {},
   "outputs": [],
   "source": [
    "# Trianing\n",
    "lr = LinearRegression()\n",
    "lr.fit(X_train, y_train)"
   ]
  },
  {
   "cell_type": "code",
   "execution_count": null,
   "id": "e90a79e6",
   "metadata": {},
   "outputs": [],
   "source": [
    "y_pred = lr.predict(X_train)"
   ]
  },
  {
   "cell_type": "code",
   "execution_count": null,
   "id": "d629d225",
   "metadata": {
    "scrolled": false
   },
   "outputs": [],
   "source": [
    "sns.distplot(y_pred, label ='Prediction')\n",
    "sns.distplot(y_train, label ='Actual')"
   ]
  },
  {
   "cell_type": "code",
   "execution_count": null,
   "id": "9e620bf5",
   "metadata": {},
   "outputs": [],
   "source": [
    "mean_squared_error(y_train, y_pred, squared=False)"
   ]
  },
  {
   "cell_type": "code",
   "execution_count": null,
   "id": "11e4376c",
   "metadata": {},
   "outputs": [],
   "source": [
    "# Trianing with Lasso\n",
    "las = Lasso()\n",
    "las.fit(X_train, y_train)\n",
    "\n",
    "y_pred = las.predict(X_train)\n",
    "\n",
    "sns.distplot(y_pred, label ='Prediction')\n",
    "sns.distplot(y_train, label ='Actual')\n",
    "\n",
    "mean_squared_error(y_train, y_pred, squared=False)"
   ]
  },
  {
   "cell_type": "code",
   "execution_count": null,
   "id": "d149f35a",
   "metadata": {},
   "outputs": [],
   "source": []
  }
 ],
 "metadata": {
  "kernelspec": {
   "display_name": "Python 3",
   "language": "python",
   "name": "python3"
  },
  "language_info": {
   "codemirror_mode": {
    "name": "ipython",
    "version": 3
   },
   "file_extension": ".py",
   "mimetype": "text/x-python",
   "name": "python",
   "nbconvert_exporter": "python",
   "pygments_lexer": "ipython3",
   "version": "3.8.8"
  }
 },
 "nbformat": 4,
 "nbformat_minor": 5
}
