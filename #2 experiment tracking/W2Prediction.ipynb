{
 "cells": [
  {
   "cell_type": "code",
   "execution_count": 1,
   "id": "e1022224",
   "metadata": {},
   "outputs": [],
   "source": [
    "import pandas as pd\n",
    "import matplotlib.pyplot as plt\n",
    "import seaborn as sns\n",
    "\n",
    "from sklearn.feature_extraction import DictVectorizer\n",
    "from sklearn.linear_model import LinearRegression\n",
    "from sklearn.linear_model import Lasso # Linear Regression with regularization\n",
    "from sklearn.linear_model import Ridge # regularised linear regression\n",
    "from sklearn.metrics import mean_squared_error\n",
    "\n",
    "import pickle\n",
    "import xgboost\n",
    "from hyperopt import fmin, tpe, hp, STATUS_OK, Trials # Importing some methods from hyperopt\n",
    "from hyperopt.pyll import scope\n"
   ]
  },
  {
   "cell_type": "code",
   "execution_count": 2,
   "id": "a881a213",
   "metadata": {},
   "outputs": [
    {
     "data": {
      "text/plain": [
       "<Experiment: artifact_location='./mlruns/1', experiment_id='1', lifecycle_stage='active', name='nyc-taxi-experiment', tags={}>"
      ]
     },
     "execution_count": 2,
     "metadata": {},
     "output_type": "execute_result"
    }
   ],
   "source": [
    "import mlflow\n",
    "\n",
    "mlflow.set_tracking_uri('sqlite:///mlflow.db')\n",
    "mlflow.set_experiment(\"nyc-taxi-experiment\")"
   ]
  },
  {
   "cell_type": "code",
   "execution_count": 3,
   "id": "9f4b378d",
   "metadata": {},
   "outputs": [],
   "source": [
    "# !pip install mlflow\n",
    "# !pip install hyperopt\n",
    "# !pip install pyarrow"
   ]
  },
  {
   "cell_type": "code",
   "execution_count": 4,
   "id": "98e70334",
   "metadata": {},
   "outputs": [],
   "source": [
    "def read_data(filename):\n",
    "    df = pd.read_parquet(filename)\n",
    "    \n",
    "    df['duration'] = df.lpep_dropoff_datetime - df.lpep_pickup_datetime\n",
    "    df.duration = df.duration.apply(lambda td: td.total_seconds() / 60)\n",
    "    \n",
    "    df = df[(df.duration >= 1) & (df.duration <= 60) ]\n",
    "    \n",
    "    categorical = ['PULocationID','DOLocationID']\n",
    "    df[categorical] = df[categorical].astype(str)\n",
    "    \n",
    "    df['PU_DO'] = df['PULocationID'] + '_' + df['DOLocationID']\n",
    "    return df"
   ]
  },
  {
   "cell_type": "code",
   "execution_count": 5,
   "id": "dc97910c",
   "metadata": {},
   "outputs": [],
   "source": [
    "df_train = read_data('../data/green_tripdata_2021-01.parquet')\n",
    "df_val = read_data('../data/green_tripdata_2021-02.parquet')"
   ]
  },
  {
   "cell_type": "code",
   "execution_count": 6,
   "id": "0ce0f226",
   "metadata": {},
   "outputs": [
    {
     "data": {
      "text/plain": [
       "(73908, 61921)"
      ]
     },
     "execution_count": 6,
     "metadata": {},
     "output_type": "execute_result"
    }
   ],
   "source": [
    "len(df_train), len(df_val)"
   ]
  },
  {
   "cell_type": "code",
   "execution_count": null,
   "id": "c84c870b",
   "metadata": {},
   "outputs": [],
   "source": []
  },
  {
   "cell_type": "code",
   "execution_count": 7,
   "id": "55a5cce1",
   "metadata": {},
   "outputs": [],
   "source": [
    "categorical = ['PU_DO']#,'PULocationID','DOLocationID']\n",
    "numerical = ['trip_distance']\n",
    "\n",
    "dv = DictVectorizer()\n",
    "\n",
    "train_dicts = df_train[categorical + numerical].to_dict(orient='records')\n",
    "val_dicts = df_val[categorical + numerical].to_dict(orient='records')\n",
    "\n",
    "X_train = dv.fit_transform(train_dicts)\n",
    "X_valid = dv.transform(val_dicts)\n",
    "\n",
    "target = 'duration'\n",
    "y_train = df_train[target].values\n",
    "y_valid = df_val[target].values"
   ]
  },
  {
   "cell_type": "code",
   "execution_count": 8,
   "id": "595a1ac4",
   "metadata": {},
   "outputs": [],
   "source": [
    "def train_model(lr = LinearRegression()):\n",
    "    # For Rapid and clean experimentaion\n",
    "    lr.fit(X_train, y_train)\n",
    "\n",
    "    y_pred = lr.predict(X_train)\n",
    "    print('train mse',mean_squared_error(y_train, y_pred, squared=False))\n",
    "    \n",
    "    y_pred = lr.predict(X_valid)\n",
    "    print('val mse',mean_squared_error(y_valid, y_pred, squared=False))\n",
    "    "
   ]
  },
  {
   "cell_type": "code",
   "execution_count": 9,
   "id": "0b52afa3",
   "metadata": {},
   "outputs": [
    {
     "name": "stdout",
     "output_type": "stream",
     "text": [
      "train mse 4.640859708885847\n",
      "val mse 7.479343826040432\n"
     ]
    }
   ],
   "source": [
    "train_model(LinearRegression())"
   ]
  },
  {
   "cell_type": "code",
   "execution_count": 10,
   "id": "07bcf398",
   "metadata": {},
   "outputs": [
    {
     "name": "stdout",
     "output_type": "stream",
     "text": [
      "train mse 8.345478908061276\n",
      "val mse 9.233436225720547\n"
     ]
    }
   ],
   "source": [
    "train_model(Lasso(alpha = 0.001))"
   ]
  },
  {
   "cell_type": "code",
   "execution_count": 11,
   "id": "3d2fbc69",
   "metadata": {},
   "outputs": [
    {
     "name": "stdout",
     "output_type": "stream",
     "text": [
      "train mse 10.712682923244786\n",
      "val mse 11.3426039432658\n"
     ]
    }
   ],
   "source": [
    "train_model(Ridge())"
   ]
  },
  {
   "cell_type": "code",
   "execution_count": null,
   "id": "a49267bd",
   "metadata": {},
   "outputs": [],
   "source": []
  },
  {
   "cell_type": "markdown",
   "id": "6864fdec",
   "metadata": {},
   "source": [
    "**Experiment Tracking with MLFLOW**"
   ]
  },
  {
   "cell_type": "code",
   "execution_count": 12,
   "id": "b142301e",
   "metadata": {},
   "outputs": [],
   "source": [
    "with mlflow.start_run():\n",
    "    mlflow.set_tag('developer','Bhaskara')\n",
    "    mlflow.log_param('train-data-path','../data/green_tripdata_2021-01.parquet')\n",
    "    mlflow.log_param('valid-data-path','../data/green_tripdata_2021-02.parquet')\n",
    "    a = 0.001\n",
    "    mlflow.log_param('alpha',a)\n",
    "    lr = Lasso(alpha = a)\n",
    "    lr.fit(X_train,y_train)\n",
    "\n",
    "    y_pred = lr.predict(X_train)\n",
    "    rmse_train = mean_squared_error(y_train, y_pred, squared=False)\n",
    "\n",
    "    y_pred = lr.predict(X_valid)\n",
    "    rmse_valid = mean_squared_error(y_valid, y_pred, squared=False)\n",
    "    \n",
    "    mlflow.log_metric('rmse_train',rmse_train)\n",
    "    mlflow.log_metric('rmse_valid',rmse_valid)\n",
    "    \n",
    "    # saving the model\n",
    "    mlflow.log_artifact(local_path=\"../models/lin_reg.bin\", artifact_path=\"models_pickle\")"
   ]
  },
  {
   "cell_type": "code",
   "execution_count": 13,
   "id": "08842c19",
   "metadata": {},
   "outputs": [],
   "source": [
    "with open('../models/lin_reg.bin','wb') as f_out:\n",
    "    pickle.dump((dv,lr), f_out)"
   ]
  },
  {
   "cell_type": "markdown",
   "id": "5be3eea7",
   "metadata": {},
   "source": [
    "**Hyper Parameter Optimization using Bayesian methods**\n",
    "<br>\n",
    "Using Hyperopt library to tune the find the parameteres that result in least error"
   ]
  },
  {
   "cell_type": "code",
   "execution_count": 14,
   "id": "e62807ca",
   "metadata": {},
   "outputs": [],
   "source": [
    "# Preparing data\n",
    "train = xgboost.DMatrix(X_train, label = y_train)\n",
    "valid = xgboost.DMatrix(X_valid, label = y_valid)"
   ]
  },
  {
   "cell_type": "code",
   "execution_count": 15,
   "id": "0dac345c",
   "metadata": {},
   "outputs": [],
   "source": [
    "# defining objective function for hyperopt\n",
    "def objective(params):\n",
    "    with mlflow.start_run():\n",
    "        mlflow.set_tag(\"model\",\"xgboost\")\n",
    "        mlflow.log_params(params)\n",
    "        booster = xgb.train(\n",
    "            params = params,\n",
    "            dtrain = train,\n",
    "            num_boost_round = 1000,\n",
    "            evals = [(valid,\"validation\")],\n",
    "            early_stopping_rounds = 50\n",
    "        )\n",
    "        y_pred = booster.predict(valid)\n",
    "        rmse = mean_squared_error(y_valid, y_pred, squared=False)\n",
    "        mlflow.log_metric(\"rmse\",rmse)\n",
    "        \n",
    "    return {'loss':rmse,'status':STATUS_OK}"
   ]
  },
  {
   "cell_type": "code",
   "execution_count": null,
   "id": "715c0c1a",
   "metadata": {},
   "outputs": [
    {
     "name": "stdout",
     "output_type": "stream",
     "text": [
      "\r",
      "  0%|                                                                           | 0/50 [00:00<?, ?trial/s, best loss=?]"
     ]
    },
    {
     "data": {
      "application/javascript": [
       "\n",
       "        if (window._pyforest_update_imports_cell) { window._pyforest_update_imports_cell('import xgboost as xgb'); }\n",
       "    "
      ],
      "text/plain": [
       "<IPython.core.display.Javascript object>"
      ]
     },
     "metadata": {},
     "output_type": "display_data"
    },
    {
     "name": "stdout",
     "output_type": "stream",
     "text": [
      "[13:59:47] WARNING: C:/Users/Administrator/workspace/xgboost-win64_release_1.5.0/src/objective/regression_obj.cu:188: reg:linear is now deprecated in favor of reg:squarederror.\n",
      "[0]\tvalidation-rmse:14.43683                                                                                           \n",
      "[1]\tvalidation-rmse:10.65666                                                                                           \n",
      "[2]\tvalidation-rmse:8.64480                                                                                            \n",
      "[3]\tvalidation-rmse:7.63133                                                                                            \n",
      "[4]\tvalidation-rmse:7.11061                                                                                            \n",
      "[5]\tvalidation-rmse:6.84934                                                                                            \n",
      "[6]\tvalidation-rmse:6.70913                                                                                            \n",
      "[7]\tvalidation-rmse:6.63826                                                                                            \n",
      "[8]\tvalidation-rmse:6.59225                                                                                            \n",
      "[9]\tvalidation-rmse:6.56122                                                                                            \n",
      "[10]\tvalidation-rmse:6.54325                                                                                           \n",
      "[11]\tvalidation-rmse:6.53025                                                                                           \n",
      "[12]\tvalidation-rmse:6.52163                                                                                           \n",
      "[13]\tvalidation-rmse:6.51507                                                                                           \n",
      "[14]\tvalidation-rmse:6.51131                                                                                           \n",
      "[15]\tvalidation-rmse:6.50655                                                                                           \n",
      "[16]\tvalidation-rmse:6.50366                                                                                           \n",
      "[17]\tvalidation-rmse:6.50030                                                                                           \n",
      "[18]\tvalidation-rmse:6.49775                                                                                           \n",
      "[19]\tvalidation-rmse:6.49362                                                                                           \n",
      "[20]\tvalidation-rmse:6.49075                                                                                           \n",
      "[21]\tvalidation-rmse:6.48812                                                                                           \n",
      "[22]\tvalidation-rmse:6.48587                                                                                           \n",
      "[23]\tvalidation-rmse:6.48499                                                                                           \n",
      "[24]\tvalidation-rmse:6.48358                                                                                           \n",
      "[25]\tvalidation-rmse:6.48146                                                                                           \n",
      "[26]\tvalidation-rmse:6.47886                                                                                           \n",
      "[27]\tvalidation-rmse:6.47724                                                                                           \n",
      "[28]\tvalidation-rmse:6.47564                                                                                           \n",
      "[29]\tvalidation-rmse:6.47372                                                                                           \n",
      "[30]\tvalidation-rmse:6.47216                                                                                           \n",
      "[31]\tvalidation-rmse:6.47126                                                                                           \n",
      "[32]\tvalidation-rmse:6.47020                                                                                           \n",
      "[33]\tvalidation-rmse:6.47070                                                                                           \n",
      "[34]\tvalidation-rmse:6.46837                                                                                           \n",
      "[35]\tvalidation-rmse:6.46725                                                                                           \n",
      "[36]\tvalidation-rmse:6.46509                                                                                           \n",
      "[37]\tvalidation-rmse:6.46452                                                                                           \n",
      "[38]\tvalidation-rmse:6.46371                                                                                           \n",
      "[39]\tvalidation-rmse:6.46213                                                                                           \n",
      "[40]\tvalidation-rmse:6.46160                                                                                           \n",
      "[41]\tvalidation-rmse:6.46026                                                                                           \n",
      "[42]\tvalidation-rmse:6.45993                                                                                           \n",
      "[43]\tvalidation-rmse:6.45876                                                                                           \n",
      "[44]\tvalidation-rmse:6.45859                                                                                           \n",
      "[45]\tvalidation-rmse:6.45706                                                                                           \n",
      "[46]\tvalidation-rmse:6.45670                                                                                           \n",
      "[47]\tvalidation-rmse:6.45614                                                                                           \n",
      "[48]\tvalidation-rmse:6.45553                                                                                           \n",
      "[49]\tvalidation-rmse:6.45457                                                                                           \n",
      "[50]\tvalidation-rmse:6.45283                                                                                           \n",
      "[51]\tvalidation-rmse:6.45284                                                                                           \n",
      "[52]\tvalidation-rmse:6.45195                                                                                           \n",
      "[53]\tvalidation-rmse:6.45106                                                                                           \n",
      "[54]\tvalidation-rmse:6.45071                                                                                           \n",
      "[55]\tvalidation-rmse:6.44946                                                                                           \n",
      "[56]\tvalidation-rmse:6.44830                                                                                           \n",
      "[57]\tvalidation-rmse:6.44785                                                                                           \n",
      "[58]\tvalidation-rmse:6.44735                                                                                           \n",
      "[59]\tvalidation-rmse:6.44748                                                                                           \n",
      "[60]\tvalidation-rmse:6.44623                                                                                           \n",
      "[61]\tvalidation-rmse:6.44511                                                                                           \n",
      "[62]\tvalidation-rmse:6.44342                                                                                           \n",
      "[63]\tvalidation-rmse:6.44639                                                                                           \n",
      "[64]\tvalidation-rmse:6.44550                                                                                           \n",
      "[65]\tvalidation-rmse:6.44450                                                                                           \n"
     ]
    },
    {
     "name": "stdout",
     "output_type": "stream",
     "text": [
      "[66]\tvalidation-rmse:6.44351                                                                                           \n",
      "[67]\tvalidation-rmse:6.44351                                                                                           \n",
      "[68]\tvalidation-rmse:6.44248                                                                                           \n",
      "[69]\tvalidation-rmse:6.44299                                                                                           \n",
      "[70]\tvalidation-rmse:6.44037                                                                                           \n",
      "[71]\tvalidation-rmse:6.44064                                                                                           \n",
      "[72]\tvalidation-rmse:6.43960                                                                                           \n",
      "[73]\tvalidation-rmse:6.43965                                                                                           \n",
      "[74]\tvalidation-rmse:6.43993                                                                                           \n",
      "[75]\tvalidation-rmse:6.44133                                                                                           \n",
      "[76]\tvalidation-rmse:6.44025                                                                                           \n",
      "[77]\tvalidation-rmse:6.43942                                                                                           \n",
      "[78]\tvalidation-rmse:6.43642                                                                                           \n",
      "[79]\tvalidation-rmse:6.43588                                                                                           \n",
      "  0%|                                                                           | 0/50 [00:10<?, ?trial/s, best loss=?]"
     ]
    }
   ],
   "source": [
    "search_space = {\n",
    "    'max_depth': scope.int(hp.quniform('max_depth',4,100,1)),\n",
    "    'learning_rate': hp.loguniform('learning_rate',-3,0),\n",
    "    'reg_alpha': hp.loguniform('reg_alpha',-5,1),\n",
    "    'reg_lambda': hp.loguniform('reg_lambda',-6,1),\n",
    "    'min_child_weight':hp.loguniform('min_child_weight',-1,3),\n",
    "    'objective':'reg:linear',\n",
    "    'seed':42\n",
    "}\n",
    "\n",
    "best_result = fmin(\n",
    "    fn=objective,\n",
    "    space=search_space,\n",
    "    algo=tpe.suggest,\n",
    "    max_evals=50,\n",
    "    trials=Trials()\n",
    ")"
   ]
  },
  {
   "cell_type": "code",
   "execution_count": null,
   "id": "896e304f",
   "metadata": {},
   "outputs": [],
   "source": []
  },
  {
   "cell_type": "code",
   "execution_count": null,
   "id": "f50de556",
   "metadata": {
    "scrolled": true
   },
   "outputs": [],
   "source": [
    "params = {\n",
    "    'learning_rate':0.6792481346516283,\n",
    "    'max_depth':45,\n",
    "    'min_child_weight':1.1821354185273338,\n",
    "    'objective':'reg:linear',\n",
    "    'reg_alpha':0.22386751312752642,\n",
    "    'reg_lambda':1.5946121644009208,\n",
    "    'seed':42\n",
    "}\n",
    "with mlflow.start_run():\n",
    "    \n",
    "    mlflow.xgboost.autolog()\n",
    "    # mlflow.xgboost.autolog()\n",
    "    best_booster = xgb.train(\n",
    "            params = params,\n",
    "            dtrain = train,\n",
    "            num_boost_round = 1000,\n",
    "            evals = [(valid,\"validation\")],\n",
    "            early_stopping_rounds = 50,\n",
    "            verbose_eval = False\n",
    "        )\n"
   ]
  },
  {
   "cell_type": "code",
   "execution_count": null,
   "id": "73fcd7a4",
   "metadata": {},
   "outputs": [],
   "source": []
  },
  {
   "cell_type": "code",
   "execution_count": null,
   "id": "a8c2fe91",
   "metadata": {},
   "outputs": [],
   "source": [
    "with mlflow.start_run():\n",
    "    best_params = {\n",
    "    'learning_rate':0.6792481346516283,\n",
    "    'max_depth':45,\n",
    "    'min_child_weight':1.1821354185273338,\n",
    "    'objective':'reg:linear',\n",
    "    'reg_alpha':0.22386751312752642,\n",
    "    'reg_lambda':1.5946121644009208,\n",
    "    'seed':42\n",
    "    }\n",
    "    mlflow.log_params(best_params)\n",
    "    \n",
    "    best_booster = xgb.train(\n",
    "            params = best_params,\n",
    "            dtrain = train,\n",
    "            num_boost_round = 1000,\n",
    "            evals = [(valid,\"validation\")],\n",
    "            early_stopping_rounds = 50,\n",
    "            verbose_eval = False\n",
    "        )\n",
    "    y_pred = best_booster.predict(valid)\n",
    "    rmse = mean_squared_error(y_valid, y_pred, squared=False)\n",
    "    mlflow.log_metric(\"rmse\",rmse)\n",
    "    \n",
    "    with open(\"../models/preprocessor.b\",\"wb\") as f_out:\n",
    "        pickle.dump(dv,f_out)\n",
    "        \n",
    "    mlflow.log_artifact(\"../models/preprocessor.b\",artifact_path = \"preprocessor\")\n",
    "    mlflow.xgboost.log_model(best_booster,artifact_path = \"models_mlflow\")"
   ]
  },
  {
   "cell_type": "code",
   "execution_count": null,
   "id": "868105e7",
   "metadata": {},
   "outputs": [],
   "source": [
    "# import mlflow\n",
    "logged_model = 'runs:/a7a089966f6c4cf2a987d34e78a2b8b3/models_mlflow'\n",
    "\n",
    "# Load model as a PyFuncModel.\n",
    "loaded_model = mlflow.pyfunc.load_model(logged_model)\n",
    "\n",
    "loaded_model"
   ]
  },
  {
   "cell_type": "code",
   "execution_count": null,
   "id": "f53c5489",
   "metadata": {},
   "outputs": [],
   "source": [
    "xgboost_model = mlflow.xgboost.load_model('runs:/a7a089966f6c4cf2a987d34e78a2b8b3/models_mlflow')"
   ]
  },
  {
   "cell_type": "code",
   "execution_count": null,
   "id": "d94338b4",
   "metadata": {},
   "outputs": [],
   "source": [
    "xgboost_model"
   ]
  },
  {
   "cell_type": "code",
   "execution_count": null,
   "id": "304b2c88",
   "metadata": {},
   "outputs": [],
   "source": [
    "xgboost_model.predict(valid)"
   ]
  },
  {
   "cell_type": "code",
   "execution_count": null,
   "id": "efe25269",
   "metadata": {},
   "outputs": [],
   "source": []
  }
 ],
 "metadata": {
  "kernelspec": {
   "display_name": "Python 3",
   "language": "python",
   "name": "python3"
  },
  "language_info": {
   "codemirror_mode": {
    "name": "ipython",
    "version": 3
   },
   "file_extension": ".py",
   "mimetype": "text/x-python",
   "name": "python",
   "nbconvert_exporter": "python",
   "pygments_lexer": "ipython3",
   "version": "3.8.8"
  }
 },
 "nbformat": 4,
 "nbformat_minor": 5
}
