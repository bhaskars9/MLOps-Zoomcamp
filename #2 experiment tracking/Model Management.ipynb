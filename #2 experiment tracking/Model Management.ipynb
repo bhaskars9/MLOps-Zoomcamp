{
 "cells": [
  {
   "cell_type": "code",
   "execution_count": 2,
   "id": "36dff6cf",
   "metadata": {},
   "outputs": [],
   "source": [
    "from mlflow.tracking import MlflowClient\n",
    "\n",
    "MLFLOW_TRACKING_URI = \"sqlite:///mlflow.db\"\n",
    "\n",
    "client = MlflowClient(tracking_uri = MLFLOW_TRACKING_URI)"
   ]
  },
  {
   "cell_type": "code",
   "execution_count": 3,
   "id": "923e4e4d",
   "metadata": {},
   "outputs": [
    {
     "data": {
      "text/plain": [
       "[<Experiment: artifact_location='./mlruns/0', experiment_id='0', lifecycle_stage='active', name='Default', tags={}>,\n",
       " <Experiment: artifact_location='./mlruns/1', experiment_id='1', lifecycle_stage='active', name='nyc-taxi-experiment', tags={}>]"
      ]
     },
     "execution_count": 3,
     "metadata": {},
     "output_type": "execute_result"
    }
   ],
   "source": [
    "client.list_experiments()"
   ]
  },
  {
   "cell_type": "code",
   "execution_count": 4,
   "id": "21061d32",
   "metadata": {},
   "outputs": [
    {
     "data": {
      "text/plain": [
       "'2'"
      ]
     },
     "execution_count": 4,
     "metadata": {},
     "output_type": "execute_result"
    }
   ],
   "source": [
    "client.create_experiment(name=\"New-Experiment\")"
   ]
  },
  {
   "cell_type": "code",
   "execution_count": 10,
   "id": "6557df2f",
   "metadata": {},
   "outputs": [],
   "source": [
    "from mlflow.entities import ViewType\n",
    "\n",
    "runs = client.search_runs(experiment_ids = '1',\n",
    "                  filter_string=\"metrics.rmse < 6.7\",\n",
    "                  run_view_type=ViewType.ACTIVE_ONLY,\n",
    "                   max_results=5,\n",
    "                   order_by=[\"metrics.rmse ASC\"]\n",
    "                  )"
   ]
  },
  {
   "cell_type": "code",
   "execution_count": 11,
   "id": "0dc4c34a",
   "metadata": {},
   "outputs": [
    {
     "name": "stdout",
     "output_type": "stream",
     "text": [
      "run id:3f54708836814a1db99f96d7b5354090, rmse: 6.2782\n",
      "run id:2ce6ec1f7ad2490b87858a85e4ff36de, rmse: 6.2822\n",
      "run id:82e47fc437c0454ca887fc402eb195fb, rmse: 6.2913\n",
      "run id:a7a089966f6c4cf2a987d34e78a2b8b3, rmse: 6.2930\n",
      "run id:11a9fec3776d443eb16f2ec1046f1308, rmse: 6.2930\n"
     ]
    }
   ],
   "source": [
    "for run in runs:\n",
    "    print(f\"run id:{run.info.run_id}, rmse: {run.data.metrics['rmse']:.4f}\")"
   ]
  },
  {
   "cell_type": "code",
   "execution_count": 12,
   "id": "3a36e219",
   "metadata": {},
   "outputs": [],
   "source": [
    "# To promote some of these to model registry\n",
    "import mlflow\n",
    "\n",
    "mlflow.set_tracking_uri(MLFLOW_TRACKING_URI)"
   ]
  },
  {
   "cell_type": "code",
   "execution_count": 13,
   "id": "bd0bf7f3",
   "metadata": {},
   "outputs": [
    {
     "name": "stderr",
     "output_type": "stream",
     "text": [
      "Successfully registered model 'nyc-taxi-regressor'.\n",
      "2022/06/02 11:35:27 INFO mlflow.tracking._model_registry.client: Waiting up to 300 seconds for model version to finish creation.                     Model name: nyc-taxi-regressor, version 1\n",
      "Created version '1' of model 'nyc-taxi-regressor'.\n"
     ]
    },
    {
     "data": {
      "text/plain": [
       "<ModelVersion: creation_timestamp=1654184127354, current_stage='None', description=None, last_updated_timestamp=1654184127354, name='nyc-taxi-regressor', run_id='82e47fc437c0454ca887fc402eb195fb', run_link=None, source='./mlruns/1/82e47fc437c0454ca887fc402eb195fb/artifacts/model', status='READY', status_message=None, tags={}, user_id=None, version=1>"
      ]
     },
     "execution_count": 13,
     "metadata": {},
     "output_type": "execute_result"
    }
   ],
   "source": [
    "run_id = \"82e47fc437c0454ca887fc402eb195fb\"\n",
    "model_uri = f\"runs:/{run_id}/model\"\n",
    "mlflow.register_model(model_uri=model_uri, name = \"nyc-taxi-regressor\")\n",
    "# creating a new version of model"
   ]
  },
  {
   "cell_type": "code",
   "execution_count": 14,
   "id": "4d765029",
   "metadata": {},
   "outputs": [
    {
     "data": {
      "text/plain": [
       "[<RegisteredModel: creation_timestamp=1654184127333, description=None, last_updated_timestamp=1654184127354, latest_versions=[<ModelVersion: creation_timestamp=1654184127354, current_stage='None', description=None, last_updated_timestamp=1654184127354, name='nyc-taxi-regressor', run_id='82e47fc437c0454ca887fc402eb195fb', run_link=None, source='./mlruns/1/82e47fc437c0454ca887fc402eb195fb/artifacts/model', status='READY', status_message=None, tags={}, user_id=None, version=1>], name='nyc-taxi-regressor', tags={}>]"
      ]
     },
     "execution_count": 14,
     "metadata": {},
     "output_type": "execute_result"
    }
   ],
   "source": [
    "# checking all the registered models\n",
    "client.list_registered_models()"
   ]
  },
  {
   "cell_type": "code",
   "execution_count": 16,
   "id": "01237933",
   "metadata": {},
   "outputs": [
    {
     "name": "stdout",
     "output_type": "stream",
     "text": [
      "version: 1, stage: None\n"
     ]
    }
   ],
   "source": [
    "# get the versions of 'nyc-taxi-regressor' model\n",
    "latest_versions = client.get_latest_versions(name=\"nyc-taxi-regressor\")\n",
    "\n",
    "for version in latest_versions:\n",
    "    print(f\"version: {version.version}, stage: {version.current_stage}\")"
   ]
  },
  {
   "cell_type": "code",
   "execution_count": 21,
   "id": "037c1294",
   "metadata": {},
   "outputs": [
    {
     "data": {
      "text/plain": [
       "<ModelVersion: creation_timestamp=1654184127354, current_stage='Staging', description=None, last_updated_timestamp=1654186795273, name='nyc-taxi-regressor', run_id='82e47fc437c0454ca887fc402eb195fb', run_link=None, source='./mlruns/1/82e47fc437c0454ca887fc402eb195fb/artifacts/model', status='READY', status_message=None, tags={}, user_id=None, version=1>"
      ]
     },
     "execution_count": 21,
     "metadata": {},
     "output_type": "execute_result"
    }
   ],
   "source": [
    "model_name = \"nyc-taxi-regressor\"\n",
    "model_version = 1\n",
    "new_stage = \"Staging\"\n",
    "client.transition_model_version_stage(\n",
    "    name = model_name,\n",
    "    version = 1,\n",
    "    stage = \"Staging\",\n",
    "    archive_existing_versions = False)"
   ]
  },
  {
   "cell_type": "code",
   "execution_count": 22,
   "id": "8822ab7b",
   "metadata": {},
   "outputs": [
    {
     "name": "stdout",
     "output_type": "stream",
     "text": [
      "version: 1, stage: Staging\n"
     ]
    }
   ],
   "source": [
    "# get the versions of 'nyc-taxi-regressor' model\n",
    "latest_versions = client.get_latest_versions(name=model_name)\n",
    "\n",
    "for version in latest_versions:\n",
    "    print(f\"version: {version.version}, stage: {version.current_stage}\")"
   ]
  },
  {
   "cell_type": "code",
   "execution_count": 23,
   "id": "a72439fa",
   "metadata": {},
   "outputs": [],
   "source": [
    "from datetime import datetime as dt"
   ]
  },
  {
   "cell_type": "code",
   "execution_count": 25,
   "id": "8a72b0cb",
   "metadata": {},
   "outputs": [
    {
     "data": {
      "text/plain": [
       "<ModelVersion: creation_timestamp=1654184127354, current_stage='Staging', description='The model version 1 was transitioned to Staging on 2022-06-02', last_updated_timestamp=1654186803480, name='nyc-taxi-regressor', run_id='82e47fc437c0454ca887fc402eb195fb', run_link=None, source='./mlruns/1/82e47fc437c0454ca887fc402eb195fb/artifacts/model', status='READY', status_message=None, tags={}, user_id=None, version=1>"
      ]
     },
     "execution_count": 25,
     "metadata": {},
     "output_type": "execute_result"
    }
   ],
   "source": [
    "client.update_model_version(\n",
    "    name = model_name,\n",
    "    version =1,\n",
    "    description = f\"The model version {model_version} was transitioned to {new_stage} on {dt.today().date()}\")"
   ]
  },
  {
   "cell_type": "code",
   "execution_count": null,
   "id": "2a7be4df",
   "metadata": {},
   "outputs": [],
   "source": []
  }
 ],
 "metadata": {
  "kernelspec": {
   "display_name": "Python 3",
   "language": "python",
   "name": "python3"
  },
  "language_info": {
   "codemirror_mode": {
    "name": "ipython",
    "version": 3
   },
   "file_extension": ".py",
   "mimetype": "text/x-python",
   "name": "python",
   "nbconvert_exporter": "python",
   "pygments_lexer": "ipython3",
   "version": "3.8.8"
  }
 },
 "nbformat": 4,
 "nbformat_minor": 5
}
